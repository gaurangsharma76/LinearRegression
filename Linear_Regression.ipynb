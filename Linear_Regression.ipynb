{
  "cells": [
    {
      "cell_type": "markdown",
      "metadata": {
        "id": "HLXLS8e4ViWw"
      },
      "source": [
        "#  <center><u>LINEAR REGRESSION<u><center>"
      ]
    },
    {
      "cell_type": "code",
      "execution_count": 45,
      "metadata": {
        "id": "-itR6_OEViW4"
      },
      "outputs": [],
      "source": [
        "\n",
        "import numpy as np\n",
        "import pandas as pd \n",
        "import matplotlib.pyplot as plt\n",
        "import seaborn as sns\n",
        "\n"
      ]
    },
    {
      "cell_type": "code",
      "execution_count": 46,
      "metadata": {
        "id": "e49AA1ThViW5"
      },
      "outputs": [],
      "source": [
        "%matplotlib inline\n",
        "\n"
      ]
    },
    {
      "cell_type": "code",
      "execution_count": 47,
      "metadata": {
        "id": "5-Q9gejmViW6",
        "colab": {
          "base_uri": "https://localhost:8080/",
          "height": 424
        },
        "outputId": "d0c85e03-ced8-4725-a0f7-a8f4576c9d03"
      },
      "outputs": [
        {
          "output_type": "execute_result",
          "data": {
            "text/plain": [
              "        TV  Radio  Newspaper  Sales\n",
              "0    230.1   37.8       69.2   22.1\n",
              "1     44.5   39.3       45.1   10.4\n",
              "2     17.2   45.9       69.3   12.0\n",
              "3    151.5   41.3       58.5   16.5\n",
              "4    180.8   10.8       58.4   17.9\n",
              "..     ...    ...        ...    ...\n",
              "195   38.2    3.7       13.8    7.6\n",
              "196   94.2    4.9        8.1   14.0\n",
              "197  177.0    9.3        6.4   14.8\n",
              "198  283.6   42.0       66.2   25.5\n",
              "199  232.1    8.6        8.7   18.4\n",
              "\n",
              "[200 rows x 4 columns]"
            ],
            "text/html": [
              "\n",
              "  <div id=\"df-fdd24a0f-01e0-449b-b629-1a54c801aece\">\n",
              "    <div class=\"colab-df-container\">\n",
              "      <div>\n",
              "<style scoped>\n",
              "    .dataframe tbody tr th:only-of-type {\n",
              "        vertical-align: middle;\n",
              "    }\n",
              "\n",
              "    .dataframe tbody tr th {\n",
              "        vertical-align: top;\n",
              "    }\n",
              "\n",
              "    .dataframe thead th {\n",
              "        text-align: right;\n",
              "    }\n",
              "</style>\n",
              "<table border=\"1\" class=\"dataframe\">\n",
              "  <thead>\n",
              "    <tr style=\"text-align: right;\">\n",
              "      <th></th>\n",
              "      <th>TV</th>\n",
              "      <th>Radio</th>\n",
              "      <th>Newspaper</th>\n",
              "      <th>Sales</th>\n",
              "    </tr>\n",
              "  </thead>\n",
              "  <tbody>\n",
              "    <tr>\n",
              "      <th>0</th>\n",
              "      <td>230.1</td>\n",
              "      <td>37.8</td>\n",
              "      <td>69.2</td>\n",
              "      <td>22.1</td>\n",
              "    </tr>\n",
              "    <tr>\n",
              "      <th>1</th>\n",
              "      <td>44.5</td>\n",
              "      <td>39.3</td>\n",
              "      <td>45.1</td>\n",
              "      <td>10.4</td>\n",
              "    </tr>\n",
              "    <tr>\n",
              "      <th>2</th>\n",
              "      <td>17.2</td>\n",
              "      <td>45.9</td>\n",
              "      <td>69.3</td>\n",
              "      <td>12.0</td>\n",
              "    </tr>\n",
              "    <tr>\n",
              "      <th>3</th>\n",
              "      <td>151.5</td>\n",
              "      <td>41.3</td>\n",
              "      <td>58.5</td>\n",
              "      <td>16.5</td>\n",
              "    </tr>\n",
              "    <tr>\n",
              "      <th>4</th>\n",
              "      <td>180.8</td>\n",
              "      <td>10.8</td>\n",
              "      <td>58.4</td>\n",
              "      <td>17.9</td>\n",
              "    </tr>\n",
              "    <tr>\n",
              "      <th>...</th>\n",
              "      <td>...</td>\n",
              "      <td>...</td>\n",
              "      <td>...</td>\n",
              "      <td>...</td>\n",
              "    </tr>\n",
              "    <tr>\n",
              "      <th>195</th>\n",
              "      <td>38.2</td>\n",
              "      <td>3.7</td>\n",
              "      <td>13.8</td>\n",
              "      <td>7.6</td>\n",
              "    </tr>\n",
              "    <tr>\n",
              "      <th>196</th>\n",
              "      <td>94.2</td>\n",
              "      <td>4.9</td>\n",
              "      <td>8.1</td>\n",
              "      <td>14.0</td>\n",
              "    </tr>\n",
              "    <tr>\n",
              "      <th>197</th>\n",
              "      <td>177.0</td>\n",
              "      <td>9.3</td>\n",
              "      <td>6.4</td>\n",
              "      <td>14.8</td>\n",
              "    </tr>\n",
              "    <tr>\n",
              "      <th>198</th>\n",
              "      <td>283.6</td>\n",
              "      <td>42.0</td>\n",
              "      <td>66.2</td>\n",
              "      <td>25.5</td>\n",
              "    </tr>\n",
              "    <tr>\n",
              "      <th>199</th>\n",
              "      <td>232.1</td>\n",
              "      <td>8.6</td>\n",
              "      <td>8.7</td>\n",
              "      <td>18.4</td>\n",
              "    </tr>\n",
              "  </tbody>\n",
              "</table>\n",
              "<p>200 rows × 4 columns</p>\n",
              "</div>\n",
              "      <button class=\"colab-df-convert\" onclick=\"convertToInteractive('df-fdd24a0f-01e0-449b-b629-1a54c801aece')\"\n",
              "              title=\"Convert this dataframe to an interactive table.\"\n",
              "              style=\"display:none;\">\n",
              "        \n",
              "  <svg xmlns=\"http://www.w3.org/2000/svg\" height=\"24px\"viewBox=\"0 0 24 24\"\n",
              "       width=\"24px\">\n",
              "    <path d=\"M0 0h24v24H0V0z\" fill=\"none\"/>\n",
              "    <path d=\"M18.56 5.44l.94 2.06.94-2.06 2.06-.94-2.06-.94-.94-2.06-.94 2.06-2.06.94zm-11 1L8.5 8.5l.94-2.06 2.06-.94-2.06-.94L8.5 2.5l-.94 2.06-2.06.94zm10 10l.94 2.06.94-2.06 2.06-.94-2.06-.94-.94-2.06-.94 2.06-2.06.94z\"/><path d=\"M17.41 7.96l-1.37-1.37c-.4-.4-.92-.59-1.43-.59-.52 0-1.04.2-1.43.59L10.3 9.45l-7.72 7.72c-.78.78-.78 2.05 0 2.83L4 21.41c.39.39.9.59 1.41.59.51 0 1.02-.2 1.41-.59l7.78-7.78 2.81-2.81c.8-.78.8-2.07 0-2.86zM5.41 20L4 18.59l7.72-7.72 1.47 1.35L5.41 20z\"/>\n",
              "  </svg>\n",
              "      </button>\n",
              "      \n",
              "  <style>\n",
              "    .colab-df-container {\n",
              "      display:flex;\n",
              "      flex-wrap:wrap;\n",
              "      gap: 12px;\n",
              "    }\n",
              "\n",
              "    .colab-df-convert {\n",
              "      background-color: #E8F0FE;\n",
              "      border: none;\n",
              "      border-radius: 50%;\n",
              "      cursor: pointer;\n",
              "      display: none;\n",
              "      fill: #1967D2;\n",
              "      height: 32px;\n",
              "      padding: 0 0 0 0;\n",
              "      width: 32px;\n",
              "    }\n",
              "\n",
              "    .colab-df-convert:hover {\n",
              "      background-color: #E2EBFA;\n",
              "      box-shadow: 0px 1px 2px rgba(60, 64, 67, 0.3), 0px 1px 3px 1px rgba(60, 64, 67, 0.15);\n",
              "      fill: #174EA6;\n",
              "    }\n",
              "\n",
              "    [theme=dark] .colab-df-convert {\n",
              "      background-color: #3B4455;\n",
              "      fill: #D2E3FC;\n",
              "    }\n",
              "\n",
              "    [theme=dark] .colab-df-convert:hover {\n",
              "      background-color: #434B5C;\n",
              "      box-shadow: 0px 1px 3px 1px rgba(0, 0, 0, 0.15);\n",
              "      filter: drop-shadow(0px 1px 2px rgba(0, 0, 0, 0.3));\n",
              "      fill: #FFFFFF;\n",
              "    }\n",
              "  </style>\n",
              "\n",
              "      <script>\n",
              "        const buttonEl =\n",
              "          document.querySelector('#df-fdd24a0f-01e0-449b-b629-1a54c801aece button.colab-df-convert');\n",
              "        buttonEl.style.display =\n",
              "          google.colab.kernel.accessAllowed ? 'block' : 'none';\n",
              "\n",
              "        async function convertToInteractive(key) {\n",
              "          const element = document.querySelector('#df-fdd24a0f-01e0-449b-b629-1a54c801aece');\n",
              "          const dataTable =\n",
              "            await google.colab.kernel.invokeFunction('convertToInteractive',\n",
              "                                                     [key], {});\n",
              "          if (!dataTable) return;\n",
              "\n",
              "          const docLinkHtml = 'Like what you see? Visit the ' +\n",
              "            '<a target=\"_blank\" href=https://colab.research.google.com/notebooks/data_table.ipynb>data table notebook</a>'\n",
              "            + ' to learn more about interactive tables.';\n",
              "          element.innerHTML = '';\n",
              "          dataTable['output_type'] = 'display_data';\n",
              "          await google.colab.output.renderOutput(dataTable, element);\n",
              "          const docLink = document.createElement('div');\n",
              "          docLink.innerHTML = docLinkHtml;\n",
              "          element.appendChild(docLink);\n",
              "        }\n",
              "      </script>\n",
              "    </div>\n",
              "  </div>\n",
              "  "
            ]
          },
          "metadata": {},
          "execution_count": 47
        }
      ],
      "source": [
        "# Import the data\n",
        "\n",
        "df = pd.read_csv('/content/advertising.csv')\n",
        "df"
      ]
    },
    {
      "cell_type": "code",
      "execution_count": 48,
      "metadata": {
        "id": "GQ7Kure8ViW6"
      },
      "outputs": [],
      "source": [
        "#drop radio and newspaper column\n",
        "df = df.drop(['Radio','Newspaper'],axis=1)"
      ]
    },
    {
      "cell_type": "code",
      "execution_count": 49,
      "metadata": {
        "id": "7S2D5Y3iViW7",
        "outputId": "2151c2a6-5d84-4a3b-e004-befead4c6c49",
        "colab": {
          "base_uri": "https://localhost:8080/"
        }
      },
      "outputs": [
        {
          "output_type": "execute_result",
          "data": {
            "text/plain": [
              "(200, 2)"
            ]
          },
          "metadata": {},
          "execution_count": 49
        }
      ],
      "source": [
        "# View the dimensions of df\n",
        "\n",
        "df.shape\n"
      ]
    },
    {
      "cell_type": "code",
      "execution_count": 50,
      "metadata": {
        "id": "HVLHFeLaViW8",
        "outputId": "437f71a1-ce37-4d59-e553-3b217d343626",
        "colab": {
          "base_uri": "https://localhost:8080/",
          "height": 206
        }
      },
      "outputs": [
        {
          "output_type": "execute_result",
          "data": {
            "text/plain": [
              "      TV  Sales\n",
              "0  230.1   22.1\n",
              "1   44.5   10.4\n",
              "2   17.2   12.0\n",
              "3  151.5   16.5\n",
              "4  180.8   17.9"
            ],
            "text/html": [
              "\n",
              "  <div id=\"df-ad7bff6c-a058-4de9-84d2-1c47692b0ba1\">\n",
              "    <div class=\"colab-df-container\">\n",
              "      <div>\n",
              "<style scoped>\n",
              "    .dataframe tbody tr th:only-of-type {\n",
              "        vertical-align: middle;\n",
              "    }\n",
              "\n",
              "    .dataframe tbody tr th {\n",
              "        vertical-align: top;\n",
              "    }\n",
              "\n",
              "    .dataframe thead th {\n",
              "        text-align: right;\n",
              "    }\n",
              "</style>\n",
              "<table border=\"1\" class=\"dataframe\">\n",
              "  <thead>\n",
              "    <tr style=\"text-align: right;\">\n",
              "      <th></th>\n",
              "      <th>TV</th>\n",
              "      <th>Sales</th>\n",
              "    </tr>\n",
              "  </thead>\n",
              "  <tbody>\n",
              "    <tr>\n",
              "      <th>0</th>\n",
              "      <td>230.1</td>\n",
              "      <td>22.1</td>\n",
              "    </tr>\n",
              "    <tr>\n",
              "      <th>1</th>\n",
              "      <td>44.5</td>\n",
              "      <td>10.4</td>\n",
              "    </tr>\n",
              "    <tr>\n",
              "      <th>2</th>\n",
              "      <td>17.2</td>\n",
              "      <td>12.0</td>\n",
              "    </tr>\n",
              "    <tr>\n",
              "      <th>3</th>\n",
              "      <td>151.5</td>\n",
              "      <td>16.5</td>\n",
              "    </tr>\n",
              "    <tr>\n",
              "      <th>4</th>\n",
              "      <td>180.8</td>\n",
              "      <td>17.9</td>\n",
              "    </tr>\n",
              "  </tbody>\n",
              "</table>\n",
              "</div>\n",
              "      <button class=\"colab-df-convert\" onclick=\"convertToInteractive('df-ad7bff6c-a058-4de9-84d2-1c47692b0ba1')\"\n",
              "              title=\"Convert this dataframe to an interactive table.\"\n",
              "              style=\"display:none;\">\n",
              "        \n",
              "  <svg xmlns=\"http://www.w3.org/2000/svg\" height=\"24px\"viewBox=\"0 0 24 24\"\n",
              "       width=\"24px\">\n",
              "    <path d=\"M0 0h24v24H0V0z\" fill=\"none\"/>\n",
              "    <path d=\"M18.56 5.44l.94 2.06.94-2.06 2.06-.94-2.06-.94-.94-2.06-.94 2.06-2.06.94zm-11 1L8.5 8.5l.94-2.06 2.06-.94-2.06-.94L8.5 2.5l-.94 2.06-2.06.94zm10 10l.94 2.06.94-2.06 2.06-.94-2.06-.94-.94-2.06-.94 2.06-2.06.94z\"/><path d=\"M17.41 7.96l-1.37-1.37c-.4-.4-.92-.59-1.43-.59-.52 0-1.04.2-1.43.59L10.3 9.45l-7.72 7.72c-.78.78-.78 2.05 0 2.83L4 21.41c.39.39.9.59 1.41.59.51 0 1.02-.2 1.41-.59l7.78-7.78 2.81-2.81c.8-.78.8-2.07 0-2.86zM5.41 20L4 18.59l7.72-7.72 1.47 1.35L5.41 20z\"/>\n",
              "  </svg>\n",
              "      </button>\n",
              "      \n",
              "  <style>\n",
              "    .colab-df-container {\n",
              "      display:flex;\n",
              "      flex-wrap:wrap;\n",
              "      gap: 12px;\n",
              "    }\n",
              "\n",
              "    .colab-df-convert {\n",
              "      background-color: #E8F0FE;\n",
              "      border: none;\n",
              "      border-radius: 50%;\n",
              "      cursor: pointer;\n",
              "      display: none;\n",
              "      fill: #1967D2;\n",
              "      height: 32px;\n",
              "      padding: 0 0 0 0;\n",
              "      width: 32px;\n",
              "    }\n",
              "\n",
              "    .colab-df-convert:hover {\n",
              "      background-color: #E2EBFA;\n",
              "      box-shadow: 0px 1px 2px rgba(60, 64, 67, 0.3), 0px 1px 3px 1px rgba(60, 64, 67, 0.15);\n",
              "      fill: #174EA6;\n",
              "    }\n",
              "\n",
              "    [theme=dark] .colab-df-convert {\n",
              "      background-color: #3B4455;\n",
              "      fill: #D2E3FC;\n",
              "    }\n",
              "\n",
              "    [theme=dark] .colab-df-convert:hover {\n",
              "      background-color: #434B5C;\n",
              "      box-shadow: 0px 1px 3px 1px rgba(0, 0, 0, 0.15);\n",
              "      filter: drop-shadow(0px 1px 2px rgba(0, 0, 0, 0.3));\n",
              "      fill: #FFFFFF;\n",
              "    }\n",
              "  </style>\n",
              "\n",
              "      <script>\n",
              "        const buttonEl =\n",
              "          document.querySelector('#df-ad7bff6c-a058-4de9-84d2-1c47692b0ba1 button.colab-df-convert');\n",
              "        buttonEl.style.display =\n",
              "          google.colab.kernel.accessAllowed ? 'block' : 'none';\n",
              "\n",
              "        async function convertToInteractive(key) {\n",
              "          const element = document.querySelector('#df-ad7bff6c-a058-4de9-84d2-1c47692b0ba1');\n",
              "          const dataTable =\n",
              "            await google.colab.kernel.invokeFunction('convertToInteractive',\n",
              "                                                     [key], {});\n",
              "          if (!dataTable) return;\n",
              "\n",
              "          const docLinkHtml = 'Like what you see? Visit the ' +\n",
              "            '<a target=\"_blank\" href=https://colab.research.google.com/notebooks/data_table.ipynb>data table notebook</a>'\n",
              "            + ' to learn more about interactive tables.';\n",
              "          element.innerHTML = '';\n",
              "          dataTable['output_type'] = 'display_data';\n",
              "          await google.colab.output.renderOutput(dataTable, element);\n",
              "          const docLink = document.createElement('div');\n",
              "          docLink.innerHTML = docLinkHtml;\n",
              "          element.appendChild(docLink);\n",
              "        }\n",
              "      </script>\n",
              "    </div>\n",
              "  </div>\n",
              "  "
            ]
          },
          "metadata": {},
          "execution_count": 50
        }
      ],
      "source": [
        "# View the top 5 rows of df\n",
        "df.head(5)\n"
      ]
    },
    {
      "cell_type": "code",
      "execution_count": 51,
      "metadata": {
        "id": "F2x1WiaNViW8",
        "outputId": "80ff0910-2664-4754-9f58-d40b507aafc8",
        "colab": {
          "base_uri": "https://localhost:8080/"
        }
      },
      "outputs": [
        {
          "output_type": "stream",
          "name": "stdout",
          "text": [
            "<class 'pandas.core.frame.DataFrame'>\n",
            "RangeIndex: 200 entries, 0 to 199\n",
            "Data columns (total 2 columns):\n",
            " #   Column  Non-Null Count  Dtype  \n",
            "---  ------  --------------  -----  \n",
            " 0   TV      200 non-null    float64\n",
            " 1   Sales   200 non-null    float64\n",
            "dtypes: float64(2)\n",
            "memory usage: 3.2 KB\n"
          ]
        }
      ],
      "source": [
        "# View dataframe summary\n",
        "df.info()\n",
        "\n"
      ]
    },
    {
      "cell_type": "code",
      "execution_count": 52,
      "metadata": {
        "id": "BpTwQa5oViW9",
        "outputId": "2b1db445-54f2-449c-d4f7-58bfb018eee1",
        "colab": {
          "base_uri": "https://localhost:8080/",
          "height": 300
        }
      },
      "outputs": [
        {
          "output_type": "execute_result",
          "data": {
            "text/plain": [
              "               TV       Sales\n",
              "count  200.000000  200.000000\n",
              "mean   147.042500   15.130500\n",
              "std     85.854236    5.283892\n",
              "min      0.700000    1.600000\n",
              "25%     74.375000   11.000000\n",
              "50%    149.750000   16.000000\n",
              "75%    218.825000   19.050000\n",
              "max    296.400000   27.000000"
            ],
            "text/html": [
              "\n",
              "  <div id=\"df-61f4a4c5-579e-4a35-a9fe-1e51dc1b6ce8\">\n",
              "    <div class=\"colab-df-container\">\n",
              "      <div>\n",
              "<style scoped>\n",
              "    .dataframe tbody tr th:only-of-type {\n",
              "        vertical-align: middle;\n",
              "    }\n",
              "\n",
              "    .dataframe tbody tr th {\n",
              "        vertical-align: top;\n",
              "    }\n",
              "\n",
              "    .dataframe thead th {\n",
              "        text-align: right;\n",
              "    }\n",
              "</style>\n",
              "<table border=\"1\" class=\"dataframe\">\n",
              "  <thead>\n",
              "    <tr style=\"text-align: right;\">\n",
              "      <th></th>\n",
              "      <th>TV</th>\n",
              "      <th>Sales</th>\n",
              "    </tr>\n",
              "  </thead>\n",
              "  <tbody>\n",
              "    <tr>\n",
              "      <th>count</th>\n",
              "      <td>200.000000</td>\n",
              "      <td>200.000000</td>\n",
              "    </tr>\n",
              "    <tr>\n",
              "      <th>mean</th>\n",
              "      <td>147.042500</td>\n",
              "      <td>15.130500</td>\n",
              "    </tr>\n",
              "    <tr>\n",
              "      <th>std</th>\n",
              "      <td>85.854236</td>\n",
              "      <td>5.283892</td>\n",
              "    </tr>\n",
              "    <tr>\n",
              "      <th>min</th>\n",
              "      <td>0.700000</td>\n",
              "      <td>1.600000</td>\n",
              "    </tr>\n",
              "    <tr>\n",
              "      <th>25%</th>\n",
              "      <td>74.375000</td>\n",
              "      <td>11.000000</td>\n",
              "    </tr>\n",
              "    <tr>\n",
              "      <th>50%</th>\n",
              "      <td>149.750000</td>\n",
              "      <td>16.000000</td>\n",
              "    </tr>\n",
              "    <tr>\n",
              "      <th>75%</th>\n",
              "      <td>218.825000</td>\n",
              "      <td>19.050000</td>\n",
              "    </tr>\n",
              "    <tr>\n",
              "      <th>max</th>\n",
              "      <td>296.400000</td>\n",
              "      <td>27.000000</td>\n",
              "    </tr>\n",
              "  </tbody>\n",
              "</table>\n",
              "</div>\n",
              "      <button class=\"colab-df-convert\" onclick=\"convertToInteractive('df-61f4a4c5-579e-4a35-a9fe-1e51dc1b6ce8')\"\n",
              "              title=\"Convert this dataframe to an interactive table.\"\n",
              "              style=\"display:none;\">\n",
              "        \n",
              "  <svg xmlns=\"http://www.w3.org/2000/svg\" height=\"24px\"viewBox=\"0 0 24 24\"\n",
              "       width=\"24px\">\n",
              "    <path d=\"M0 0h24v24H0V0z\" fill=\"none\"/>\n",
              "    <path d=\"M18.56 5.44l.94 2.06.94-2.06 2.06-.94-2.06-.94-.94-2.06-.94 2.06-2.06.94zm-11 1L8.5 8.5l.94-2.06 2.06-.94-2.06-.94L8.5 2.5l-.94 2.06-2.06.94zm10 10l.94 2.06.94-2.06 2.06-.94-2.06-.94-.94-2.06-.94 2.06-2.06.94z\"/><path d=\"M17.41 7.96l-1.37-1.37c-.4-.4-.92-.59-1.43-.59-.52 0-1.04.2-1.43.59L10.3 9.45l-7.72 7.72c-.78.78-.78 2.05 0 2.83L4 21.41c.39.39.9.59 1.41.59.51 0 1.02-.2 1.41-.59l7.78-7.78 2.81-2.81c.8-.78.8-2.07 0-2.86zM5.41 20L4 18.59l7.72-7.72 1.47 1.35L5.41 20z\"/>\n",
              "  </svg>\n",
              "      </button>\n",
              "      \n",
              "  <style>\n",
              "    .colab-df-container {\n",
              "      display:flex;\n",
              "      flex-wrap:wrap;\n",
              "      gap: 12px;\n",
              "    }\n",
              "\n",
              "    .colab-df-convert {\n",
              "      background-color: #E8F0FE;\n",
              "      border: none;\n",
              "      border-radius: 50%;\n",
              "      cursor: pointer;\n",
              "      display: none;\n",
              "      fill: #1967D2;\n",
              "      height: 32px;\n",
              "      padding: 0 0 0 0;\n",
              "      width: 32px;\n",
              "    }\n",
              "\n",
              "    .colab-df-convert:hover {\n",
              "      background-color: #E2EBFA;\n",
              "      box-shadow: 0px 1px 2px rgba(60, 64, 67, 0.3), 0px 1px 3px 1px rgba(60, 64, 67, 0.15);\n",
              "      fill: #174EA6;\n",
              "    }\n",
              "\n",
              "    [theme=dark] .colab-df-convert {\n",
              "      background-color: #3B4455;\n",
              "      fill: #D2E3FC;\n",
              "    }\n",
              "\n",
              "    [theme=dark] .colab-df-convert:hover {\n",
              "      background-color: #434B5C;\n",
              "      box-shadow: 0px 1px 3px 1px rgba(0, 0, 0, 0.15);\n",
              "      filter: drop-shadow(0px 1px 2px rgba(0, 0, 0, 0.3));\n",
              "      fill: #FFFFFF;\n",
              "    }\n",
              "  </style>\n",
              "\n",
              "      <script>\n",
              "        const buttonEl =\n",
              "          document.querySelector('#df-61f4a4c5-579e-4a35-a9fe-1e51dc1b6ce8 button.colab-df-convert');\n",
              "        buttonEl.style.display =\n",
              "          google.colab.kernel.accessAllowed ? 'block' : 'none';\n",
              "\n",
              "        async function convertToInteractive(key) {\n",
              "          const element = document.querySelector('#df-61f4a4c5-579e-4a35-a9fe-1e51dc1b6ce8');\n",
              "          const dataTable =\n",
              "            await google.colab.kernel.invokeFunction('convertToInteractive',\n",
              "                                                     [key], {});\n",
              "          if (!dataTable) return;\n",
              "\n",
              "          const docLinkHtml = 'Like what you see? Visit the ' +\n",
              "            '<a target=\"_blank\" href=https://colab.research.google.com/notebooks/data_table.ipynb>data table notebook</a>'\n",
              "            + ' to learn more about interactive tables.';\n",
              "          element.innerHTML = '';\n",
              "          dataTable['output_type'] = 'display_data';\n",
              "          await google.colab.output.renderOutput(dataTable, element);\n",
              "          const docLink = document.createElement('div');\n",
              "          docLink.innerHTML = docLinkHtml;\n",
              "          element.appendChild(docLink);\n",
              "        }\n",
              "      </script>\n",
              "    </div>\n",
              "  </div>\n",
              "  "
            ]
          },
          "metadata": {},
          "execution_count": 52
        }
      ],
      "source": [
        "# View descriptive statistics\n",
        "\n",
        "df.describe()\n"
      ]
    },
    {
      "cell_type": "code",
      "execution_count": 53,
      "metadata": {
        "id": "w1_4DnJcViW9"
      },
      "outputs": [],
      "source": [
        "# Declaring TV as X(Independent) variable  and sales as Y(dependent variable) \n",
        "\n",
        "# TV and Sales data values are given by X and y respectively.\n",
        "\n",
        "X = df.loc[:,['TV']]\n",
        "\n",
        "Y = df.loc[:,[\"Sales\"]]\n"
      ]
    },
    {
      "cell_type": "code",
      "execution_count": 54,
      "metadata": {
        "id": "ZiV-1Qb7ViW9",
        "outputId": "4b429abc-853f-4a1b-cf4e-0d6a92c2f63c",
        "colab": {
          "base_uri": "https://localhost:8080/",
          "height": 312
        }
      },
      "outputs": [
        {
          "output_type": "execute_result",
          "data": {
            "text/plain": [
              "Text(0.5, 1.0, 'Scatter plot between TV and Sales Variable')"
            ]
          },
          "metadata": {},
          "execution_count": 54
        },
        {
          "output_type": "display_data",
          "data": {
            "text/plain": [
              "<Figure size 432x288 with 1 Axes>"
            ],
            "image/png": "[encoded data removed]"
          },
          "metadata": {
            "needs_background": "light"
          }
        }
      ],
      "source": [
        "# Scatter plot to see relationship between Tv and sales\n",
        "plt.scatter(X,Y)\n",
        "plt.xlabel(\"TV\")\n",
        "plt.ylabel(\"Sales\")\n",
        "plt.title(\"Scatter plot between TV and Sales Variable\")\n"
      ]
    },
    {
      "cell_type": "markdown",
      "metadata": {
        "id": "IWBAct0bViW-"
      },
      "source": [
        "Here we can notice that there is some sort of positive relationship between TV and Sales as we can see that when the Value of Tv advertisement increases Sales also increase"
      ]
    },
    {
      "cell_type": "markdown",
      "metadata": {
        "id": "RnhxaHdMViW-"
      },
      "source": [
        "# Visualising Data Using Seaborn\n"
      ]
    },
    {
      "cell_type": "markdown",
      "metadata": {
        "id": "aLndJy8rGhAw"
      },
      "source": [
        "### **`Reference video below for pairplot and reshaping`**\n",
        "\n"
      ]
    },
    {
      "cell_type": "code",
      "execution_count": 55,
      "metadata": {
        "id": "hH-0mrKxViW-",
        "outputId": "fc2242df-10aa-4562-de43-5ece219b777b",
        "colab": {
          "base_uri": "https://localhost:8080/",
          "height": 669
        }
      },
      "outputs": [
        {
          "output_type": "execute_result",
          "data": {
            "text/plain": [
              "<seaborn.axisgrid.PairGrid at 0x7f8732047f90>"
            ]
          },
          "metadata": {},
          "execution_count": 55
        },
        {
          "output_type": "display_data",
          "data": {
            "text/plain": [
              "<Figure size 432x288 with 1 Axes>"
            ],
            "image/png": "[encoded data removed]"
          },
          "metadata": {
            "needs_background": "light"
          }
        },
        {
          "output_type": "display_data",
          "data": {
            "text/plain": [
              "<Figure size 360x360 with 6 Axes>"
            ],
            "image/png": "[encoded data removed]"
          },
          "metadata": {
            "needs_background": "light"
          }
        }
      ],
      "source": [
        "# Visualise the relationship between the features and the response using scatterplots\n",
        "\n",
        "sns.scatterplot(x=\"TV\",y=\"Sales\",data=df)\n",
        "plt.xlabel(\"TV\")\n",
        "plt.ylabel(\"Sales\")\n",
        "plt.title(\"Scatter plot between TV and Sales Variable\")\n",
        "\n",
        "# plot a pairplot also for df\n",
        "\n",
        "sns.pairplot(df)\n",
        "\n"
      ]
    },
    {
      "cell_type": "markdown",
      "metadata": {
        "id": "XtaA6-KiViW_"
      },
      "source": [
        "The above graph also shows positive linear relation between both TV and Sales."
      ]
    },
    {
      "cell_type": "code",
      "execution_count": 56,
      "metadata": {
        "id": "8riwVY8QViW_",
        "outputId": "854c935d-bf6a-4318-a366-be46d1d78a02",
        "colab": {
          "base_uri": "https://localhost:8080/"
        }
      },
      "outputs": [
        {
          "output_type": "stream",
          "name": "stdout",
          "text": [
            "(200, 1)\n",
            "(200, 1)\n"
          ]
        }
      ],
      "source": [
        "# Printing the dimensions of X and y\n",
        "print(X.shape)\n",
        "print(Y.shape)\n",
        "\n"
      ]
    },
    {
      "cell_type": "code",
      "execution_count": 57,
      "metadata": {
        "id": "WheKXGzrViW_"
      },
      "outputs": [],
      "source": [
        "# Reshaping X and Y into array\n",
        "\n",
        "X = X.values.reshape(-1,1)\n",
        "\n",
        "Y = Y.values.reshape(-1)\n",
        "\n"
      ]
    },
    {
      "cell_type": "code",
      "execution_count": 58,
      "metadata": {
        "id": "_xtPKCMIViXA",
        "outputId": "fe85db57-1425-4997-8c38-35b4066b14b2",
        "colab": {
          "base_uri": "https://localhost:8080/"
        }
      },
      "outputs": [
        {
          "output_type": "execute_result",
          "data": {
            "text/plain": [
              "(200,)"
            ]
          },
          "metadata": {},
          "execution_count": 58
        }
      ],
      "source": [
        "# Print the dimensions of X and y after reshaping\n",
        "X.shape\n",
        "Y.shape\n",
        "\n"
      ]
    },
    {
      "cell_type": "markdown",
      "metadata": {
        "id": "uuF-FxqfViXA"
      },
      "source": [
        "# Performing Simple Linear Regression"
      ]
    },
    {
      "cell_type": "code",
      "execution_count": 59,
      "metadata": {
        "id": "yPVJAcFOViXA"
      },
      "outputs": [],
      "source": [
        "# import train test split\n",
        "from sklearn.model_selection import train_test_split\n",
        "\n",
        "# Split X and y into training and test data sets\n",
        "\n",
        "\n",
        "X_train,X_test,Y_train,Y_test = train_test_split(X,Y,test_size=0.1,random_state = 42)\n",
        "\n"
      ]
    },
    {
      "cell_type": "code",
      "execution_count": 60,
      "metadata": {
        "id": "w2nhKaLWViXB",
        "colab": {
          "base_uri": "https://localhost:8080/"
        },
        "outputId": "930105b2-e2ef-4433-9170-dec2dde17bc8"
      },
      "outputs": [
        {
          "output_type": "stream",
          "name": "stdout",
          "text": [
            "(180, 1)\n",
            "(180,)\n",
            "(20, 1)\n",
            "(20,)\n"
          ]
        }
      ],
      "source": [
        "# print shapes of X_train,Y_train, X_test, Y_test\n",
        "\n",
        "print(X_train.shape)\n",
        "print(Y_train.shape)\n",
        "print(X_test.shape)\n",
        "print(Y_test.shape)\n"
      ]
    },
    {
      "cell_type": "code",
      "execution_count": 61,
      "metadata": {
        "id": "Km9tuIFLViXB",
        "colab": {
          "base_uri": "https://localhost:8080/"
        },
        "outputId": "977f4d24-2685-4d9c-c2c3-cd1f5098b944"
      },
      "outputs": [
        {
          "output_type": "execute_result",
          "data": {
            "text/plain": [
              "array([16.04807507, 17.81783251, 23.19326401,  7.68996824, 19.19063502,\n",
              "       11.18537703, 18.99767081,  9.801548  , 19.30641354, 16.69864011,\n",
              "        8.78159433, 10.14337031, 19.97351838,  7.34263267, 14.73591845,\n",
              "       16.42849022,  7.44738467, 17.9391243 , 11.19640356, 20.13340301])"
            ]
          },
          "metadata": {},
          "execution_count": 61
        }
      ],
      "source": [
        "# Fit the linear model\n",
        "\n",
        "# Instantiate the linear regression object lm\n",
        "from sklearn.linear_model import LinearRegression\n",
        "lm = LinearRegression()\n",
        "\n",
        "\n",
        "# Train the model using training data sets\n",
        "lm.fit(X_train,Y_train)\n",
        "\n",
        "\n",
        "\n",
        "# Predict on the test data\n",
        "Y_pred = lm.predict(X_test)\n",
        "Y_pred"
      ]
    },
    {
      "cell_type": "code",
      "execution_count": 80,
      "metadata": {
        "id": "Sdw4_9jFViXB",
        "colab": {
          "base_uri": "https://localhost:8080/"
        },
        "outputId": "46682499-618e-4fc8-c04c-df9ba2c8d80c"
      },
      "outputs": [
        {
          "output_type": "stream",
          "name": "stdout",
          "text": [
            "The Model slope is [0.05513263]\n",
            "The model intercept is 7.044916461655207\n",
            "Equation of line = y[0.05513263]+7.044916461655207\n"
          ]
        }
      ],
      "source": [
        "# Compute model slope and intercept\n",
        "\n",
        "a = lm.coef_\n",
        "b = lm.intercept_\n",
        "\n",
        "# also print a and b\n",
        "print(\"The Model slope is\",a)\n",
        "print(\"The model intercept is\",b)\n",
        "print(f\"Equation of line = y{a}+{b}\")"
      ]
    },
    {
      "cell_type": "markdown",
      "metadata": {
        "id": "bZxiK72hViXC"
      },
      "source": [
        "Wohoo! Awesome job done! \n",
        "\n",
        "## Making predictions\n",
        "\n",
        "\n",
        "To make prediction, on an individual TV value, \n",
        "\n",
        "\n",
        "\t\tlm.predict(Xi)\n",
        "        \n",
        "\n",
        "where Xi is the TV data value of the ith observation.\n",
        "\n"
      ]
    },
    {
      "cell_type": "markdown",
      "metadata": {
        "id": "jq0gQ9b9ViXC"
      },
      "source": [
        "<p style='text-align: right;'> 2 points</p>\n"
      ]
    },
    {
      "cell_type": "code",
      "execution_count": 72,
      "metadata": {
        "id": "IiEarTpBViXC",
        "colab": {
          "base_uri": "https://localhost:8080/"
        },
        "outputId": "2a5e63e2-3bf3-49d2-a8fa-19cb4fcc0e9e"
      },
      "outputs": [
        {
          "output_type": "execute_result",
          "data": {
            "text/plain": [
              "array([19.7309348 ,  9.49831853,  7.99319771, 15.39751002, 17.0128961 ])"
            ]
          },
          "metadata": {},
          "execution_count": 72
        }
      ],
      "source": [
        "# Predicting Sales values on first five 5 TV  datasets only\n",
        "Xi = X[0:5]\n",
        "lm.predict(Xi)\n",
        "\n",
        "\n"
      ]
    },
    {
      "cell_type": "code",
      "execution_count": 71,
      "metadata": {
        "id": "HONm83d7ViXC",
        "colab": {
          "base_uri": "https://localhost:8080/"
        },
        "outputId": "4f38df29-7ac5-480c-8fff-01c82cf16a5e"
      },
      "outputs": [
        {
          "output_type": "execute_result",
          "data": {
            "text/plain": [
              "array([19.7309348 ,  9.49831853,  7.99319771, 15.39751002, 17.0128961 ,\n",
              "        7.52457035, 10.21504273, 13.67185868,  7.51905709, 18.06041609,\n",
              "       10.68918336, 18.88189229,  8.35707307, 12.42034796, 18.2974864 ,\n",
              "       17.81783251, 10.78290883, 22.55923876, 10.86009451, 15.16595297,\n",
              "       19.08588302, 20.13340301,  7.77266719, 19.63169607, 10.47967936,\n",
              "       21.53928509, 14.9233694 , 20.28226111, 20.761915  , 10.93728019,\n",
              "       23.19326401, 13.26939048, 12.40380817, 21.68814319, 12.32110923,\n",
              "       23.07197223, 21.75981561, 11.16332398,  9.42113285, 19.61515628,\n",
              "       18.20927419, 16.80339211, 23.23185685, 18.45185777,  8.42874549,\n",
              "       16.69864011, 11.99031344, 20.27123458, 19.57105017, 10.73328946,\n",
              "       18.06041609, 12.58023259, 18.97561776, 17.11213484, 21.52825856,\n",
              "       18.01079672,  7.44738467, 14.55398077, 18.66687503, 18.66136176,\n",
              "        9.99451221, 21.45107288, 20.238155  , 12.70703764, 14.27280436,\n",
              "       10.84906798,  8.78159433, 14.72489193, 20.13340301, 18.99767081,\n",
              "       18.02182325, 13.09847932,  8.52247097, 14.17907888, 18.81021987,\n",
              "        7.97665792,  8.56106381, 13.68839847,  7.34263267, 13.44030163,\n",
              "       11.25704945, 20.26572132, 11.19640356, 10.81598841, 18.81573313,\n",
              "       17.69654073, 11.25153619, 13.14809869, 11.91312776, 13.09847932,\n",
              "       14.44922877,  8.6217097 , 19.04729018, 20.87769352, 12.96616101,\n",
              "       16.04807507, 17.9391243 , 17.23893989, 23.01683959, 14.49884814,\n",
              "       19.30641354, 23.38622822, 22.4930796 , 17.40433778, 20.17750911,\n",
              "       14.64770624,  8.42323223, 12.02890628,  7.76715392, 21.12579036,\n",
              "       19.49386449, 20.37047332, 16.73171969, 18.60071587, 11.35628819,\n",
              "       11.18537703, 14.71937866, 11.25704945, 13.97508815,  8.1144895 ,\n",
              "       14.83515719,  8.08140992, 19.39462575, 13.83174331, 19.69785522,\n",
              "       11.85248186,  7.47495098, 11.46655345, 19.19063502, 10.33082126,\n",
              "        7.0835093 , 21.66609014,  7.50803056, 19.1630687 ,  9.07931054,\n",
              "        9.70782253,  8.45631181, 22.1347175 ,  9.41561958, 17.23893989,\n",
              "       11.09165156, 17.72410704, 19.20166155, 12.81178964, 12.34867554,\n",
              "       14.78002456, 20.28226111, 20.45317226,  9.13995643,  9.50934506,\n",
              "       22.52064592, 13.71596478, 17.9391243 , 16.48913611, 17.39882452,\n",
              "        7.27096025, 12.22187049, 15.30378455,  7.68996824, 14.30588393,\n",
              "       16.55529527, 11.76978292, 17.4319041 , 16.05910159, 13.50646079,\n",
              "       19.97351838,  8.03179055, 18.4463445 , 18.92048513, 22.71912339,\n",
              "        9.801548  , 16.11423422,  8.12551602, 16.32925148, 19.30641354,\n",
              "       22.31114192, 20.73986194, 16.42849022, 22.30011539, 16.17488012,\n",
              "       15.67868644, 19.09139628, 10.14337031, 22.90106107, 21.03757815,\n",
              "       18.34710577, 14.73591845, 17.5807622 , 22.81284886,  8.07589666,\n",
              "        9.22265538, 11.20743008,  7.99319771, 16.24103927, 15.29827129,\n",
              "        9.15098296, 12.23841028, 16.80339211, 22.68053055, 19.84120006])"
            ]
          },
          "metadata": {},
          "execution_count": 71
        }
      ],
      "source": [
        "# prediction for all X present in the dataset\n",
        "lm.predict(X)\n",
        "\n"
      ]
    },
    {
      "cell_type": "code",
      "execution_count": 74,
      "metadata": {
        "id": "arDMTcUrViXE",
        "colab": {
          "base_uri": "https://localhost:8080/"
        },
        "outputId": "b9851ef0-50aa-47b6-a7c1-164a1e7aaaea"
      },
      "outputs": [
        {
          "output_type": "stream",
          "name": "stdout",
          "text": [
            "RMSE Value  2.5103822386472214\n"
          ]
        }
      ],
      "source": [
        "# Calculate and print Root Mean Square Error(RMSE)\n",
        "from sklearn.metrics import mean_squared_error\n",
        "mse = mean_squared_error(Y_test,Y_pred)\n",
        "rmse = np.sqrt(mse)\n",
        "print(\"RMSE Value \",rmse)\n",
        "\n"
      ]
    },
    {
      "cell_type": "code",
      "execution_count": 75,
      "metadata": {
        "id": "j-gxwwxcViXE",
        "colab": {
          "base_uri": "https://localhost:8080/"
        },
        "outputId": "c041d6b2-01c7-42f1-ec9d-0bf015e3ff3e"
      },
      "outputs": [
        {
          "output_type": "stream",
          "name": "stdout",
          "text": [
            "R2 Score value:  0.8071768727953934\n"
          ]
        }
      ],
      "source": [
        "# Calculate and print r2_score\n",
        "\n",
        "from sklearn.metrics import r2_score\n",
        "r2score = r2_score(Y_test,Y_pred)\n",
        "print(\"R2 Score value: \" ,r2score)\n",
        "\n"
      ]
    },
    {
      "cell_type": "code",
      "execution_count": 79,
      "metadata": {
        "id": "ngPS8MFvViXE",
        "colab": {
          "base_uri": "https://localhost:8080/",
          "height": 295
        },
        "outputId": "f325638d-1356-49e2-a501-23554ff9c487"
      },
      "outputs": [
        {
          "output_type": "display_data",
          "data": {
            "text/plain": [
              "<Figure size 432x288 with 1 Axes>"
            ],
            "image/png": "[encoded data removed]"
          },
          "metadata": {
            "needs_background": "light"
          }
        }
      ],
      "source": [
        "# Plot the Regression Line between X and Y as shown in below output.\n",
        "plt.scatter(X,Y)\n",
        "plt.plot(X_test,Y_pred,color='red')\n",
        "plt.xlabel(\"TV\")\n",
        "plt.ylabel(\"Sales\")\n",
        "plt.title(\"Regression line \")\n",
        "plt.show()\n"
      ]
    },
    {
      "cell_type": "code",
      "execution_count": 86,
      "metadata": {
        "id": "zdS6e285ViXF",
        "colab": {
          "base_uri": "https://localhost:8080/",
          "height": 298
        },
        "outputId": "bbce4b9d-9e8e-4f51-ca8c-ce671bb8c29e"
      },
      "outputs": [
        {
          "output_type": "execute_result",
          "data": {
            "text/plain": [
              "Text(0.5, 1.0, 'Residual errors')"
            ]
          },
          "metadata": {},
          "execution_count": 86
        },
        {
          "output_type": "display_data",
          "data": {
            "text/plain": [
              "<Figure size 432x288 with 1 Axes>"
            ],
            "image/png": "[encoded data removed]"
          },
          "metadata": {
            "needs_background": "light"
          }
        }
      ],
      "source": [
        "# Plotting residual errors\n",
        "train_residual = lm.predict(X_train)-Y_train\n",
        "test_residual = lm.predict(X_test)-Y_test\n",
        "\n",
        "plt.scatter(lm.predict(X_train),train_residual,color=\"red\")\n",
        "plt.scatter(lm.predict(X_test),test_residual,color=\"blue\")\n",
        "plt.legend([\"Train_residual\",\"Test_residual\"])\n",
        "plt.title(\"Residual errors\")\n"
      ]
    }
  ],
  "metadata": {
    "kernelspec": {
      "display_name": "Python 3",
      "language": "python",
      "name": "python3"
    },
    "language_info": {
      "codemirror_mode": {
        "name": "ipython",
        "version": 3
      },
      "file_extension": ".py",
      "mimetype": "text/x-python",
      "name": "python",
      "nbconvert_exporter": "python",
      "pygments_lexer": "ipython3",
      "version": "3.8.5"
    },
    "colab": {
      "name": "Linear_Regression_withoutcode.ipynb",
      "provenance": [],
      "collapsed_sections": []
    }
  },
  "nbformat": 4,
  "nbformat_minor": 0
}